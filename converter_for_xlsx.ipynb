{
 "cells": [
  {
   "cell_type": "code",
   "execution_count": 5,
   "metadata": {},
   "outputs": [
    {
     "name": "stdout",
     "output_type": "stream",
     "text": [
      "Arquivo convertido com sucesso: arquivo_convertido.xlsx\n"
     ]
    }
   ],
   "source": [
    "import pandas as pd\n",
    "\n",
    "def convert_xlsb_to_xlsx(xlsb_file, sheet_name, xlsx_file):\n",
    "    # Ler o arquivo .xlsb usando pandas e pyxlsb\n",
    "    data = pd.read_excel(xlsb_file, sheet_name=sheet_name, engine='pyxlsb')\n",
    "\n",
    "    # Salvar o DataFrame como .xlsx\n",
    "    data.to_excel(xlsx_file, index=False)\n",
    "    print(f\"Arquivo convertido com sucesso: {xlsx_file}\")\n",
    "\n",
    "# Exemplo de uso\n",
    "convert_xlsb_to_xlsx(\"nf-p.xlsb\", \"N-FP\", \"arquivo_convertido.xlsx\")\n"
   ]
  }
 ],
 "metadata": {
  "kernelspec": {
   "display_name": "venv",
   "language": "python",
   "name": "python3"
  },
  "language_info": {
   "codemirror_mode": {
    "name": "ipython",
    "version": 3
   },
   "file_extension": ".py",
   "mimetype": "text/x-python",
   "name": "python",
   "nbconvert_exporter": "python",
   "pygments_lexer": "ipython3",
   "version": "3.12.5"
  }
 },
 "nbformat": 4,
 "nbformat_minor": 2
}
